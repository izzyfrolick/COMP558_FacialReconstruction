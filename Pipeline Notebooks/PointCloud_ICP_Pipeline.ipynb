{
 "cells": [
  {
   "cell_type": "code",
   "execution_count": 1,
   "metadata": {},
   "outputs": [],
   "source": [
    "import numpy as np\n",
    "import cv2\n",
    "from pathlib import Path\n",
    "import matplotlib.pyplot as plt\n",
    "from mpl_toolkits.mplot3d import Axes3D\n",
    "from sklearn.neighbors import NearestNeighbors\n",
    "import open3d as o3d\n",
    "import matplotlib.pyplot as plt\n",
    "from scipy.spatial.transform import Rotation as R\n",
    "import os\n",
    "from sklearn.neighbors import NearestNeighbors\n",
    "from sklearn import cluster\n",
    "\n",
    "depth_np = np.load('./depth_translation_glasses.npy')\n",
    "colour_np = np.load('./colour_translated_glasses.npy')\n",
    "\n",
    "# depth_np = np.load('/Users/isabelfrolick/Comp558_FinalProject/Comp558_FinalProject/Facial_Reconstruction_Project/outputs/mask6/depth.npy')\n",
    "# colour_np = np.load('/Users/isabelfrolick/Comp558_FinalProject/Comp558_FinalProject/Facial_Reconstruction_Project/outputs/mask6/colour.npy')\n",
    "\n",
    "# depth_np = np.load('/Users/isabelfrolick/Downloads/no_movement/depth.npy')\n",
    "# colour_np = np.load('/Users/isabelfrolick/Downloads/no_movement/colour.npy')\n",
    "#Complete orioginal: 22, 164\n",
    "#Naiive redo, mask: 53, 245\n",
    "#Naive redo, glasses: 13, 274\n",
    "# colour_img1 = colour_np[53]\n",
    "# colour_img2 = colour_np[245]\n",
    "# depth_img1 = depth_np[53]\n",
    "# depth_img2 = depth_np[245]\n",
    "\n",
    "\n",
    "# colour_np = np.load('colour_forward_glasses.npy')\n",
    "# colour_np = np.load('colour_forward_mask.npy') # GOOD\n",
    "# colour_np = np.load('colour_movement_blkglove.npy')  # GOOD use channel 2\n",
    "# colour_np = np.load('colour_movement_blkglove_2.npy')  # GOOD use channel 2\n",
    "# colour_np = np.load('colour_no_movement_glasses.npy')\n",
    "# colour_np = np.load('colour_no_movement_glasses_orange.npy')\n",
    "# colour_np = np.load('colour_no_movement_mask.npy')   # GOOD\n",
    "# colour_np = np.load('colour_no_movement_mask_orange.npy')  # GOOD\n",
    "# colour_np = np.load('colour_profile_mask.npy')\n",
    "# colour_np = np.load('colour_scarf_glasses.npy')\n",
    "# colour_np = np.load('colour_tilt_glasses.npy')\n",
    "# colour_np = np.load('colour_tilt_glasses_orange.npy')\n",
    "# colour_np = np.load('colour_tilt_mask.npy')    # GOOD\n",
    "# colour_np = np.load('colour_tilt_mask_orange.npy')   # GOOD\n",
    "# colour_np = np.load('colour_translation_glasses.npy')\n",
    "# colour_np = np.load('colour_translation_glasses_orange.npy') # ok with channel 2\n",
    "# colour_np = np.load('colour_translation_mask.npy')   # GOOD\n",
    "# colour_np = np.load('colour_translation_mask_orange.npy')    # GOOD\n",
    "\n",
    "# depth_np = np.load('depth_forward_mask.npy')\n",
    "# depth_np = np.load('depth_movement_blkglove.npy')\n",
    "# depth_np = np.load('depth_movement_blkglove_2.npy')\n",
    "# depth_np = np.load('depth_no_movement_glasses.npy')\n",
    "# depth_np = np.load('depth_no_movement_glasses_orange.npy')\n",
    "# depth_np = np.load('depth_no_movement_mask.npy')\n",
    "# depth_np = np.load('depth_no_movement_mask_orange.npy')\n",
    "# depth_np = np.load('depth_profile_mask.npy')\n",
    "# depth_np = np.load('depth_scarf_glasses.npy')\n",
    "# depth_np = np.load('depth_tilt_glasses.npy')\n",
    "# depth_np = np.load('depth_tilt_glasses_orange.npy')\n",
    "# depth_np = np.load('depth_tilt_mask.npy')\n",
    "# depth_np = np.load('depth_tilt_mask_orange.npy')\n",
    "# depth_np = np.load('depth_translation_glasses.npy')\n",
    "# depth_np = np.load('depth_translation_glasses_orange.npy')\n",
    "# depth_np = np.load('depth_translation_mask.npy')\n",
    "# depth_np = np.load('depth_translation_mask_orange.npy')\n",
    "\n",
    "\n",
    "# colour_img = colour_np\n",
    "\n",
    "\n"
   ]
  },
  {
   "cell_type": "code",
   "execution_count": 2,
   "metadata": {},
   "outputs": [],
   "source": [
    "\n",
    "colour_img1 = colour_np[2]\n",
    "colour_img2 = colour_np[15]\n",
    "depth_img1 = depth_np[2]\n",
    "depth_img2 = depth_np[15]\n",
    "# # Forward glasses\n",
    "# colour_img1 = colour_np[46]\n",
    "# colour_img2 = colour_np[248]\n",
    "# depth_img1 = depth_np[46]\n",
    "# depth_img2 = depth_np[248]\n",
    "\n",
    "# Forward mask\n",
    "# colour_img1 = colour_np[24]\n",
    "# colour_img2 = colour_np[156]\n",
    "# depth_img1 = depth_np[24]\n",
    "# depth_img2 = depth_np[156]\n",
    "\n",
    "# # Movement blkglove\n",
    "# colour_img1 = colour_np[31]\n",
    "# colour_img2 = colour_np[130]\n",
    "# depth_img1 = depth_np[31]\n",
    "# depth_img2 = depth_np[130]\n",
    "\n",
    "# # Movement blkglove_2\n",
    "# colour_img1 = colour_np[24]\n",
    "# colour_img2 = colour_np[174]\n",
    "# depth_img1 = depth_np[24]\n",
    "# depth_img2 = depth_np[174]\n",
    "\n",
    "# # No movement glasses\n",
    "# colour_img1 = colour_np[16]\n",
    "# colour_img2 = colour_np[171]\n",
    "# depth_img1 = depth_np[16]\n",
    "# depth_img2 = depth_np[171]\n",
    "\n",
    "# # No movement glasses orange\n",
    "# colour_img1 = colour_np[31]\n",
    "# colour_img2 = colour_np[193]\n",
    "# depth_img1 = depth_np[31]\n",
    "# depth_img2 = depth_np[193]\n",
    "\n",
    "# # No movement mask\n",
    "# colour_img1 = colour_np[9]\n",
    "# colour_img2 = colour_np[191]\n",
    "# depth_img1 = depth_np[9]\n",
    "# depth_img2 = depth_np[191]\n",
    "\n",
    "# # No movement mask orange\n",
    "# colour_img1 = colour_np[4]\n",
    "# colour_img2 = colour_np[149]\n",
    "# depth_img1 = depth_np[4]\n",
    "# depth_img2 = depth_np[149]\n",
    "\n",
    "# # Profile mask\n",
    "# colour_img1 = colour_np[39]\n",
    "# colour_img2 = colour_np[134]\n",
    "# depth_img1 = depth_np[39]\n",
    "# depth_img2 = depth_np[134]\n",
    "\n",
    "# # Scarf glasses\n",
    "# colour_img1 = colour_np[230]\n",
    "# colour_img2 = colour_np[19]\n",
    "# depth_img1 = depth_np[230]\n",
    "# depth_img2 = depth_np[19]\n",
    "\n",
    "# # Tilt glasses\n",
    "# colour_img1 = colour_np[3]\n",
    "# colour_img2 = colour_np[167]\n",
    "# depth_img1 = depth_np[3]\n",
    "# depth_img2 = depth_np[167]\n",
    "\n",
    "# # Tilt glasses orange\n",
    "# colour_img1 = colour_np[4]\n",
    "# colour_img2 = colour_np[184]\n",
    "# depth_img1 = depth_np[4]\n",
    "# depth_img2 = depth_np[184]\n",
    "\n",
    "# # Tilt mask\n",
    "# colour_img1 = colour_np[24]\n",
    "# colour_img2 = colour_np[168]\n",
    "# depth_img1 = depth_np[24]\n",
    "# depth_img2 = depth_np[168]\n",
    "\n",
    "# # Tilt mask orange\n",
    "# colour_img1 = colour_np[20]\n",
    "# colour_img2 = colour_np[167]\n",
    "# depth_img1 = depth_np[20]\n",
    "# depth_img2 = depth_np[167]\n",
    "\n",
    "# # Translation glasses\n",
    "# colour_img1 = colour_np[19]\n",
    "# colour_img2 = colour_np[249]\n",
    "# depth_img1 = depth_np[19]\n",
    "# depth_img2 = depth_np[249]\n",
    "\n",
    "# # Translation glasses orange\n",
    "# colour_img1 = colour_np[4]\n",
    "# colour_img2 = colour_np[184]\n",
    "# depth_img1 = depth_np[4]\n",
    "# depth_img2 = depth_np[184]\n",
    "\n",
    "# # Translation mask\n",
    "# colour_img1 = colour_np[6]\n",
    "# colour_img2 = colour_np[297]\n",
    "# depth_img1 = depth_np[6]\n",
    "# depth_img2 = depth_np[297]\n",
    "\n",
    "# # Translation mask orange\n",
    "# colour_img1 = colour_np[22]\n",
    "# colour_img2 = colour_np[263]\n",
    "# depth_img1 = depth_np[22]\n",
    "# depth_img2 = depth_np[263]\n",
    "\n",
    "\n",
    "\n",
    "original_height, original_width, _ = colour_img1.shape\n",
    "# small_colour_img = cv2.resize(colour_img1, (160, 120))  # Smaller image size for dbscan memory requirements"
   ]
  },
  {
   "cell_type": "markdown",
   "metadata": {},
   "source": [
    "## Step 1: Visualize + Normalize Depth"
   ]
  },
  {
   "cell_type": "markdown",
   "metadata": {},
   "source": [
    "### Step 1a: Visualize Images"
   ]
  },
  {
   "cell_type": "code",
   "execution_count": 3,
   "metadata": {},
   "outputs": [
    {
     "name": "stdout",
     "output_type": "stream",
     "text": [
      "(240, 320)\n"
     ]
    },
    {
     "data": {
      "image/png": "[encoded data removed]",
      "text/plain": [
       "<Figure size 500x500 with 4 Axes>"
      ]
     },
     "metadata": {},
     "output_type": "display_data"
    }
   ],
   "source": [
    "plt.figure(figsize=(5, 5))\n",
    "\n",
    "plt.subplot(2, 2, 1)\n",
    "plt.imshow(colour_img1)\n",
    "plt.title(\"RGB Non-Occluded\")\n",
    "plt.axis(\"off\")\n",
    "\n",
    "plt.subplot(2, 2, 2)\n",
    "plt.imshow(depth_img1)\n",
    "plt.title(\"Depth Non-Occluded\")\n",
    "plt.axis(\"off\")\n",
    "\n",
    "plt.subplot(2, 2, 3)\n",
    "plt.imshow(colour_img2)\n",
    "plt.title(\"RGB Occluded\")\n",
    "plt.axis(\"off\")\n",
    "\n",
    "plt.subplot(2, 2, 4)\n",
    "plt.imshow(depth_img2)\n",
    "plt.title(\"Depth Occluded\")\n",
    "plt.axis(\"off\")\n",
    "\n",
    "plt.tight_layout()\n",
    "print(depth_img2.shape)"
   ]
  },
  {
   "cell_type": "markdown",
   "metadata": {},
   "source": [
    "### Step 1b: Normalize + Convolve Depth Images to Remove Data Error "
   ]
  },
  {
   "cell_type": "code",
   "execution_count": 4,
   "metadata": {},
   "outputs": [
    {
     "data": {
      "text/plain": [
       "<matplotlib.colorbar.Colorbar at 0x34e31fd30>"
      ]
     },
     "execution_count": 4,
     "metadata": {},
     "output_type": "execute_result"
    },
    {
     "data": {
      "image/png": "[encoded data removed]",
      "text/plain": [
       "<Figure size 640x480 with 2 Axes>"
      ]
     },
     "metadata": {},
     "output_type": "display_data"
    }
   ],
   "source": [
    "mask = (depth_img1 >= 1000) & (depth_img1 <= 1380)\n",
    "\n",
    "# Set pixels outside this range to 0\n",
    "depth_img1[~mask] = 0\n",
    "mask = (depth_img2 >= 1000) & (depth_img2 <= 1380)\n",
    "\n",
    "# Set pixels outside this range to 0\n",
    "depth_img2[~mask] = 0\n",
    "plt.imshow(depth_img2)\n",
    "plt.colorbar()"
   ]
  },
  {
   "cell_type": "markdown",
   "metadata": {},
   "source": [
    "##### Check which pixels are kept"
   ]
  },
  {
   "cell_type": "code",
   "execution_count": 5,
   "metadata": {},
   "outputs": [
    {
     "name": "stdout",
     "output_type": "stream",
     "text": [
      "Mean Depth: 143.3413671875\n",
      "Number of points more than 300 outside of the average depth: 8632\n"
     ]
    },
    {
     "data": {
      "image/png": "[encoded data removed]",
      "text/plain": [
       "<Figure size 1600x800 with 2 Axes>"
      ]
     },
     "metadata": {},
     "output_type": "display_data"
    }
   ],
   "source": [
    "mean_depth = np.mean(depth_img1)\n",
    "\n",
    "# Find the number of points outside the range (mean ± 100)\n",
    "threshold = 300\n",
    "outside_points = np.sum((depth_img1 < mean_depth - threshold) | (depth_img1 > mean_depth + threshold))\n",
    "\n",
    "print(f\"Mean Depth: {mean_depth}\")\n",
    "print(f\"Number of points more than {threshold} outside of the average depth: {outside_points}\")\n",
    "\n",
    "threshold = 100\n",
    "\n",
    "# Create a mask for points outside the range (mean ± 100)\n",
    "mask = (depth_img1 < mean_depth - threshold) | (depth_img1 > mean_depth + threshold)\n",
    "\n",
    "# Plot the original depth image\n",
    "plt.figure(figsize=(16, 8))\n",
    "\n",
    "plt.subplot(1, 2, 1)\n",
    "plt.imshow(depth_img1, cmap='gray')\n",
    "plt.title(\"Original Depth Image\")\n",
    "plt.axis(\"off\")\n",
    "\n",
    "# Highlight the points outside the range in a binary image\n",
    "highlighted_image = np.zeros_like(depth_img1)  # Create a blank image\n",
    "highlighted_image[mask] = 255  # Mark the outliers in white\n",
    "\n",
    "plt.subplot(1, 2, 2)\n",
    "plt.imshow(highlighted_image, cmap='gray')\n",
    "plt.title(f\"Points Outside Mean ± {threshold}\")\n",
    "plt.axis(\"off\")\n",
    "plt.show()\n"
   ]
  },
  {
   "cell_type": "markdown",
   "metadata": {},
   "source": [
    "## Step 2: Convert the Depth Images to Point Clouds "
   ]
  },
  {
   "cell_type": "markdown",
   "metadata": {},
   "source": [
    "#### Functions for Point Clouds"
   ]
  },
  {
   "cell_type": "code",
   "execution_count": 6,
   "metadata": {},
   "outputs": [],
   "source": [
    "\n",
    "def create_point_cloud_from_images(color_img, depth_img, intrinsics):\n",
    "    \"\"\"\n",
    "    Create a point cloud from a color image and a depth image using the camera intrinsics.\n",
    "    \n",
    "    Args:\n",
    "        color_img (np.ndarray): RGB image (H, W, 3).\n",
    "        depth_img (np.ndarray): Depth image (H, W) in meters.\n",
    "        intrinsics (dict): Camera intrinsics with keys: fx, fy, cx, cy.\n",
    "        \n",
    "    Returns:\n",
    "        open3d.geometry.PointCloud: The generated point cloud.\n",
    "    \"\"\"\n",
    "    h, w = depth_img.shape\n",
    "    max_depth = 2.0\n",
    "    # Generate pixel grid\n",
    "    i, j = np.meshgrid(np.arange(w), np.arange(h))  # Pixel indices\n",
    "    z = depth_img.flatten()  # Depth values\n",
    "    x = -(j.flatten() - intrinsics['cx']) * z / intrinsics['fx']\n",
    "    y = (i.flatten() - intrinsics['cy']) * z / intrinsics['fy']\n",
    "\n",
    "    # Filter out invalid points (where depth is 0)\n",
    "    valid = z > 0  & (z < max_depth)\n",
    "    points = np.vstack((x[valid], y[valid], z[valid])).T\n",
    "\n",
    "    # Map colors to points\n",
    "    colors = color_img.reshape(-1, 3)[valid] / 255.0  # Normalize RGB to [0, 1]\n",
    "\n",
    "    # Create Open3D PointCloud object\n",
    "\n",
    "    num_points = min(100000, points.shape[0])  # Limit to 100,000 points\n",
    "    indices = np.random.choice(points.shape[0], num_points, replace=False)\n",
    "    sampled_points = points[indices]\n",
    "    sampled_colors = colors[indices]\n",
    "\n",
    "    point_cloud = o3d.geometry.PointCloud()\n",
    "    point_cloud.points = o3d.utility.Vector3dVector(sampled_points)\n",
    "    point_cloud.colors = o3d.utility.Vector3dVector(sampled_colors)\n",
    "\n",
    "    return point_cloud\n",
    "\n"
   ]
  },
  {
   "cell_type": "code",
   "execution_count": 7,
   "metadata": {},
   "outputs": [],
   "source": [
    "# Visualize the point clouds\n",
    "\n",
    "# Function to handle the 'Q' key press for closing the window\n",
    "def close_window(vis):\n",
    "    print(\"Closing the window\")\n",
    "    vis.destroy_window()\n",
    "\n",
    "def visualizePointCloud(pcd):\n",
    "    vis = o3d.visualization.VisualizerWithKeyCallback()\n",
    "    vis.create_window()\n",
    "\n",
    "    # Add the point cloud to the visualizer\n",
    "    vis.add_geometry(pcd)\n",
    "    # Create and add the coordinate axes to the visualizer\n",
    "    axis = o3d.geometry.TriangleMesh.create_coordinate_frame(size=300, origin=[0, 0, 0])\n",
    "    # vis.add_geometry(axis)\n",
    "\n",
    "    \n",
    "    # Bind the 'Q' key to close the window\n",
    "    vis.register_key_callback(ord('Q'), close_window)\n",
    "\n",
    "    # Start the visualization\n",
    "    vis.run()\n"
   ]
  },
  {
   "cell_type": "markdown",
   "metadata": {},
   "source": [
    "#### Create Point Clouds + Visualize for Original Depth Images"
   ]
  },
  {
   "cell_type": "code",
   "execution_count": 8,
   "metadata": {},
   "outputs": [
    {
     "name": "stdout",
     "output_type": "stream",
     "text": [
      "\u001b[1;33m[Open3D WARNING] GLFW Error: Cocoa: Failed to find service port for display\u001b[0;m\n",
      "\u001b[1;33m[Open3D WARNING] GLFW Error: Cocoa: Failed to find service port for display\u001b[0;m\n",
      "\u001b[1;33m[Open3D WARNING] GLFW Error: Cocoa: Failed to find service port for display\u001b[0;m\n",
      "\u001b[1;33m[Open3D WARNING] GLFW Error: Cocoa: Failed to find service port for display\u001b[0;m\n",
      "Closing the window\n",
      "\u001b[1;33m[Open3D WARNING] GLFW Error: The GLFW library is not initialized\u001b[0;m\n",
      "\u001b[1;33m[Open3D WARNING] GLFW Error: Cocoa: Failed to find service port for display\u001b[0;m\n",
      "\u001b[1;33m[Open3D WARNING] GLFW Error: Cocoa: Failed to find service port for display\u001b[0;m\n",
      "Closing the window\n",
      "\u001b[1;33m[Open3D WARNING] GLFW Error: The GLFW library is not initialized\u001b[0;m\n"
     ]
    },
    {
     "data": {
      "text/plain": [
       "True"
      ]
     },
     "execution_count": 8,
     "metadata": {},
     "output_type": "execute_result"
    }
   ],
   "source": [
    "# Intrinsic parameters of your camera\n",
    "intrinsics = {\n",
    "    'fx': 583.2829786373293,  # Focal length in x (example)\n",
    "    'fy': 579.4112549695428,  # Focal length in y (example)\n",
    "    'cx': 320.0 /2,  # Principal point x (example)\n",
    "    'cy': 240.0/2,  # Principal point y (example)\n",
    "}\n",
    "\n",
    "\n",
    "# Create point clouds\n",
    "pcd1 = create_point_cloud_from_images(colour_img1, depth_img1, intrinsics)\n",
    "pcd2 = create_point_cloud_from_images(colour_img2, depth_img2, intrinsics)\n",
    "\n",
    "visualizePointCloud(pcd1)\n",
    "visualizePointCloud(pcd2)\n",
    "# Save point clouds as .ply files (or any other format like .pcd, .xyz)\n",
    "o3d.io.write_point_cloud(\"point_cloud1.ply\", pcd1)\n",
    "# o3d.io.write_point_cloud(\"point_cloud2.ply\", pcd2)"
   ]
  },
  {
   "cell_type": "markdown",
   "metadata": {},
   "source": [
    "## Step 3: ICP: Compute the transformation between the images"
   ]
  },
  {
   "cell_type": "code",
   "execution_count": 9,
   "metadata": {},
   "outputs": [
    {
     "name": "stdout",
     "output_type": "stream",
     "text": [
      "Transformation Matrix from ICP:\n",
      " [[ 9.99767092e-01  9.51573890e-03  1.93704231e-02 -2.35450395e+01]\n",
      " [-1.26854371e-02  9.85235016e-01  1.70736766e-01 -6.20476336e+01]\n",
      " [-1.74597327e-02 -1.70942722e-01  9.85126258e-01  3.01226125e+01]\n",
      " [ 0.00000000e+00  0.00000000e+00  0.00000000e+00  1.00000000e+00]]\n",
      "Fitness: 0.9993049119555144\n",
      "Inlier RMSE: 5.297395532497126\n",
      "\u001b[1;33m[Open3D WARNING] GLFW Error: Cocoa: Failed to find service port for display\u001b[0;m\n",
      "\u001b[1;33m[Open3D WARNING] GLFW Error: Cocoa: Failed to find service port for display\u001b[0;m\n",
      "Closing the window\n",
      "\u001b[1;33m[Open3D WARNING] GLFW Error: The GLFW library is not initialized\u001b[0;m\n"
     ]
    }
   ],
   "source": [
    "# Perform ICP alignment\n",
    "import copy\n",
    "\n",
    "transformed_icp_pcd = copy.deepcopy(pcd1)\n",
    "\n",
    "threshold = 100  # Distance threshold\n",
    "trans_init = np.eye(4)  # Initial transformation guess\n",
    "reg_p2p = o3d.pipelines.registration.registration_icp(\n",
    "    transformed_icp_pcd, pcd2, threshold, trans_init,\n",
    "    o3d.pipelines.registration.TransformationEstimationPointToPoint()\n",
    ")\n",
    "\n",
    "# Get the transformation matrix\n",
    "icp_transformation = reg_p2p.transformation\n",
    "print(\"Transformation Matrix from ICP:\\n\", icp_transformation)\n",
    "\n",
    "# Transform the source point cloud\n",
    "transformed_icp_pcd.transform(icp_transformation)\n",
    "\n",
    "\n",
    "print(\"Fitness:\", reg_p2p.fitness)\n",
    "print(\"Inlier RMSE:\", reg_p2p.inlier_rmse)\n",
    "# Visualize the aligned point clouds\n",
    "bbox1 = transformed_icp_pcd.get_axis_aligned_bounding_box()\n",
    "bbox1.color = (1, 0, 0)  # Red box\n",
    "bbox2 = pcd2.get_axis_aligned_bounding_box()\n",
    "bbox2.color = (0, 1, 0)  # Green box\n",
    "# o3d.visualization.draw_geometries([transformed_icp_pcd, bbox1, pcd2, bbox2], window_name=\"ICP with Bounding Boxes\")\n",
    "\n",
    "visualizePointCloud(transformed_icp_pcd)"
   ]
  },
  {
   "cell_type": "markdown",
   "metadata": {},
   "source": [
    "## Step 4: Remove the Background from RGB Images + Convert to HSV"
   ]
  },
  {
   "cell_type": "markdown",
   "metadata": {},
   "source": [
    "#### Remove Backgrounds"
   ]
  },
  {
   "cell_type": "code",
   "execution_count": null,
   "metadata": {},
   "outputs": [
    {
     "name": "stdout",
     "output_type": "stream",
     "text": [
      "\u001b[1;33m[Open3D WARNING] GLFW Error: Cocoa: Failed to find service port for display\u001b[0;m\n",
      "\u001b[1;33m[Open3D WARNING] GLFW Error: Cocoa: Failed to find service port for display\u001b[0;m\n",
      "Closing the window\n",
      "\u001b[1;33m[Open3D WARNING] GLFW Error: The GLFW library is not initialized\u001b[0;m\n"
     ]
    }
   ],
   "source": [
    "# #Based on mins and maxs of depth image\n",
    "# # min_depth = 1380\n",
    "# # max_depth = 1700\n",
    "# min_depth = 1000\n",
    "# max_depth = 1400\n",
    "\n",
    "# # Mask the depth image\n",
    "# points = np.asarray(pcd1.points)  # Shape: (N, 3) where each row is (x, y, z)\n",
    "# colors = np.asarray(pcd1.colors) \n",
    "\n",
    "# # Apply depth mask (filter points based on their z-values)\n",
    "# depth_mask = (points[:, 2] >= min_depth) & (points[:, 2] <= max_depth)\n",
    "# filtered_points = points[depth_mask]\n",
    "# filtered_colors = colors[depth_mask]\n",
    "\n",
    "# # Create a new Open3D PointCloud object with filtered points\n",
    "# image1_cropped_pc = o3d.geometry.PointCloud()\n",
    "# image1_cropped_pc.points = o3d.utility.Vector3dVector(filtered_points)\n",
    "# image1_cropped_pc.colors = o3d.utility.Vector3dVector(filtered_colors)\n",
    "\n",
    "# visualizePointCloud(pcd1)\n",
    "# #canvas[depth_mask] = colour_img1  # You can adjust this value for visualization (e.g., color or intensity)\n"
   ]
  },
  {
   "cell_type": "code",
   "execution_count": 35,
   "metadata": {},
   "outputs": [
    {
     "name": "stdout",
     "output_type": "stream",
     "text": [
      "\u001b[1;33m[Open3D WARNING] GLFW Error: Cocoa: Failed to find service port for display\u001b[0;m\n",
      "\u001b[1;33m[Open3D WARNING] GLFW Error: Cocoa: Failed to find service port for display\u001b[0;m\n",
      "Closing the window\n",
      "\u001b[1;33m[Open3D WARNING] GLFW Error: The GLFW library is not initialized\u001b[0;m\n"
     ]
    }
   ],
   "source": [
    "visualizePointCloud(pcd2)"
   ]
  },
  {
   "cell_type": "code",
   "execution_count": null,
   "metadata": {},
   "outputs": [
    {
     "name": "stdout",
     "output_type": "stream",
     "text": [
      "\u001b[1;33m[Open3D WARNING] GLFW Error: Cocoa: Failed to find service port for display\u001b[0;m\n",
      "\u001b[1;33m[Open3D WARNING] GLFW Error: Cocoa: Failed to find service port for display\u001b[0;m\n",
      "Closing the window\n",
      "\u001b[1;33m[Open3D WARNING] GLFW Error: The GLFW library is not initialized\u001b[0;m\n"
     ]
    }
   ],
   "source": [
    "# #Based on mins and maxs of depth image\n",
    "# # min_depth = 1380\n",
    "# # max_depth = 1700\n",
    "# min_depth = 1000\n",
    "# max_depth = 1400\n",
    "\n",
    "# # Mask the depth image\n",
    "# points = np.asarray(pcd2.points)  # Shape: (N, 3) where each row is (x, y, z)\n",
    "# colors = np.asarray(pcd2.colors) \n",
    "\n",
    "# # Apply depth mask (filter points based on their z-values)\n",
    "# depth_mask = (points[:, 2] >= min_depth) & (points[:, 2] <= max_depth)\n",
    "# filtered_points = points[depth_mask]\n",
    "# filtered_colors = colors[depth_mask]\n",
    "\n",
    "# # Create a new Open3D PointCloud object with filtered points\n",
    "# image2_cropped_pc = o3d.geometry.PointCloud()\n",
    "# image2_cropped_pc.points = o3d.utility.Vector3dVector(filtered_points)\n",
    "# image2_cropped_pc.colors = o3d.utility.Vector3dVector(filtered_colors)\n",
    "\n",
    "# visualizePointCloud(image2_cropped_pc)"
   ]
  },
  {
   "cell_type": "markdown",
   "metadata": {},
   "source": [
    "Now I need the pixels where the masked image is non-black from the original colour image;"
   ]
  },
  {
   "cell_type": "code",
   "execution_count": null,
   "metadata": {},
   "outputs": [
    {
     "name": "stdout",
     "output_type": "stream",
     "text": [
      "\u001b[1;33m[Open3D WARNING] GLFW Error: Cocoa: Failed to find service port for display\u001b[0;m\n",
      "\u001b[1;33m[Open3D WARNING] GLFW Error: Cocoa: Failed to find service port for display\u001b[0;m\n",
      "Closing the window\n",
      "\u001b[1;33m[Open3D WARNING] GLFW Error: The GLFW library is not initialized\u001b[0;m\n"
     ]
    }
   ],
   "source": [
    "# #Based on mins and maxs of depth image\n",
    "# # min_depth = 1380\n",
    "# # max_depth = 1700\n",
    "# min_depth = 1000\n",
    "# max_depth = 1400\n",
    "\n",
    "# # Mask the depth image\n",
    "# points = np.asarray(transformed_icp_pcd.points)  # Shape: (N, 3) where each row is (x, y, z)\n",
    "# colors = np.asarray(transformed_icp_pcd.colors) \n",
    "\n",
    "# # Apply depth mask (filter points based on their z-values)\n",
    "# depth_mask = (points[:, 2] >= min_depth) & (points[:, 2] <= max_depth)\n",
    "# filtered_points = points[depth_mask]\n",
    "# filtered_colors = colors[depth_mask]\n",
    "\n",
    "# # Create a new Open3D PointCloud object with filtered points\n",
    "# transformed_cropped_pc = o3d.geometry.PointCloud()\n",
    "# transformed_cropped_pc.points = o3d.utility.Vector3dVector(filtered_points)\n",
    "# transformed_cropped_pc.colors = o3d.utility.Vector3dVector(filtered_colors)\n",
    "\n",
    "# visualizePointCloud(transformed_cropped_pc)\n",
    "# #canvas[depth_mask] = colour_img1  # You can adjust this value for visualization (e.g., color or intensity)\n"
   ]
  },
  {
   "cell_type": "markdown",
   "metadata": {},
   "source": [
    "#### Convert RGB to HSV (unused)"
   ]
  },
  {
   "cell_type": "code",
   "execution_count": 34,
   "metadata": {},
   "outputs": [
    {
     "name": "stdout",
     "output_type": "stream",
     "text": [
      "\u001b[1;33m[Open3D WARNING] GLFW Error: Cocoa: Failed to find service port for display\u001b[0;m\n",
      "\u001b[1;33m[Open3D WARNING] GLFW Error: Cocoa: Failed to find service port for display\u001b[0;m\n",
      "Closing the window\n",
      "\u001b[1;33m[Open3D WARNING] GLFW Error: The GLFW library is not initialized\u001b[0;m\n"
     ]
    }
   ],
   "source": [
    "rgb_colours = np.asarray(pcd2.colors)\n",
    "rgb_255 = (rgb_colours * 255).astype(np.uint8)\n",
    "hsv_colors = cv2.cvtColor(rgb_255[np.newaxis, :, :], cv2.COLOR_RGB2HSV)[0]\n",
    "value_channel = hsv_colors[:, 2] / 255.0  # Normalize back to [0, 1]\n",
    "colormap = plt.get_cmap('hot')  # You can use other colormaps like 'viridis', 'plasma', etc.\n",
    "mapped_colors = colormap(value_channel)[:, :3]  # Get RGB values (ignore alpha)\n",
    "\n",
    "# Create a new point cloud\n",
    "hsv_pcd2_hot = o3d.geometry.PointCloud()\n",
    "hsv_pcd2_hot.points = pcd2.points  # Keep the original points\n",
    "\n",
    "# Assign the mapped colors to the point cloud\n",
    "hsv_pcd2_hot.colors = o3d.utility.Vector3dVector(mapped_colors)\n",
    "\n",
    "# hsv_pcd2_hot = o3d.geometry.PointCloud()\n",
    "# hsv_pcd2_hot.points = pcd2.points  # Keep the original points\n",
    "\n",
    "# hsv_pcd2_hot.colors = o3d.utility.Vector3dVector(grayscale_colors)  # Assign HSV colors\n",
    "\n",
    "# Visualize HSV point clouds\n",
    "visualizePointCloud(hsv_pcd2_hot)\n"
   ]
  },
  {
   "cell_type": "code",
   "execution_count": null,
   "metadata": {},
   "outputs": [
    {
     "name": "stdout",
     "output_type": "stream",
     "text": [
      "<class 'numpy.ndarray'>\n",
      "1.0\n",
      "\u001b[1;33m[Open3D WARNING] GLFW Error: Cocoa: Failed to find service port for display\u001b[0;m\n",
      "\u001b[1;33m[Open3D WARNING] GLFW Error: Cocoa: Failed to find service port for display\u001b[0;m\n",
      "Closing the window\n",
      "\u001b[1;33m[Open3D WARNING] GLFW Error: The GLFW library is not initialized\u001b[0;m\n"
     ]
    }
   ],
   "source": [
    "\n",
    "# rgb = np.asarray(pcd2.colors)  # Shape: (M, 3)\n",
    "\n",
    "# # Scale RGB colors from [0, 1] to [0, 255] for cv2 compatibility\n",
    "# colors_trans_scaled = (colors_transformed * 255).astype(np.uint8)\n",
    "\n",
    "# # Convert RGB to HSV\n",
    "# hsv_colors_transformed = cv2.cvtColor(colors_trans_scaled.reshape(-1, 1, 3), cv2.COLOR_RGB2HSV).reshape(-1, 3)\n",
    "# print(type(hsv_colors_transformed))\n",
    "# # Optional: Scale back to [0, 1] if needed\n",
    "# hsv_colors1_normalized = hsv_colors_transformed.astype(np.float32) / 255.0\n",
    "# print(hsv_colors1_normalized.max())\n",
    "# brightness_channel = hsv_colors_transformed[:, 2]  # Extract brightness (V)\n",
    "\n",
    "# # # Replicate the brightness channel across three columns to create grayscale RGB\n",
    "# # grayscale_colors = np.stack([brightness_channel] * 3, axis=-1)\n",
    "# # brightness_channel_normalized = (brightness_channel - brightness_channel.min()) / (brightness_channel.max() - brightness_channel.min())\n",
    "\n",
    "# # Apply the \"hot\" colormap\n",
    "# cmap = plt.get_cmap(\"hot\")\n",
    "# hot_colors = cmap(brightness_channel)[:, :3]  # Extract RGB values\n",
    "\n",
    "\n",
    "# # Replace point cloud colors with HSV values\n",
    "# hsv_pcd2_hot = o3d.geometry.PointCloud()\n",
    "# hsv_pcd2_hot.points = pcd2.points  # Keep the original points\n",
    "# #Channel 1: Hue\n",
    "# #Channel 2: Saturation\n",
    "# #Channel 3: Brightness\n",
    "# hsv_pcd2_hot.colors = o3d.utility.Vector3dVector(hot_colors)  # Assign HSV colors\n",
    "\n",
    "# # Visualize HSV point clouds\n",
    "# visualizePointCloud(hsv_pcd2_hot)\n",
    "\n"
   ]
  },
  {
   "cell_type": "markdown",
   "metadata": {},
   "source": [
    "## Step 5: Get the Difference between Transformed Image and Original Second Image (RBG)"
   ]
  },
  {
   "cell_type": "markdown",
   "metadata": {},
   "source": [
    "#### Get the Differences"
   ]
  },
  {
   "cell_type": "markdown",
   "metadata": {},
   "source": [
    "##### For Point Cloud:"
   ]
  },
  {
   "cell_type": "code",
   "execution_count": 31,
   "metadata": {},
   "outputs": [
    {
     "name": "stdout",
     "output_type": "stream",
     "text": [
      "\u001b[1;33m[Open3D WARNING] GLFW Error: Cocoa: Failed to find service port for display\u001b[0;m\n",
      "\u001b[1;33m[Open3D WARNING] GLFW Error: Cocoa: Failed to find service port for display\u001b[0;m\n",
      "Closing the window\n",
      "\u001b[1;33m[Open3D WARNING] GLFW Error: The GLFW library is not initialized\u001b[0;m\n"
     ]
    }
   ],
   "source": [
    "combined_pcd = transformed_icp_pcd + pcd2\n",
    "\n",
    "# Visualize\n",
    "visualizePointCloud(combined_pcd)"
   ]
  },
  {
   "cell_type": "code",
   "execution_count": 32,
   "metadata": {},
   "outputs": [
    {
     "name": "stdout",
     "output_type": "stream",
     "text": [
      "Color data shape: (8631, 3)\n",
      "First few color values: [[0.14901961 0.14509804 0.0745098 ]\n",
      " [0.21960784 0.18823529 0.1372549 ]\n",
      " [0.16078431 0.14509804 0.09803922]\n",
      " [0.0745098  0.04705882 0.01568627]\n",
      " [0.2        0.16862745 0.11764706]]\n"
     ]
    }
   ],
   "source": [
    "if pcd2.has_colors():\n",
    "    print(\"Color data shape:\", np.asarray(pcd2.colors).shape)\n",
    "    print(\"First few color values:\", np.asarray(pcd2.colors)[:5])"
   ]
  },
  {
   "cell_type": "code",
   "execution_count": 71,
   "metadata": {},
   "outputs": [
    {
     "name": "stdout",
     "output_type": "stream",
     "text": [
      "[0. 0. 0.]\n",
      "\u001b[1;33m[Open3D WARNING] GLFW Error: Cocoa: Failed to find service port for display\u001b[0;m\n",
      "\u001b[1;33m[Open3D WARNING] GLFW Error: Cocoa: Failed to find service port for display\u001b[0;m\n",
      "Closing the window\n",
      "\u001b[1;33m[Open3D WARNING] GLFW Error: The GLFW library is not initialized\u001b[0;m\n"
     ]
    }
   ],
   "source": [
    "pcd1_copy = copy.deepcopy(pcd1)\n",
    "pcd2_copy = copy.deepcopy(pcd2)\n",
    "transformed_icp_pcd_copy = copy.deepcopy(transformed_icp_pcd)\n",
    "\n",
    "\n",
    "colors_trans = np.asarray(transformed_icp_pcd_copy.colors)\n",
    "colors_1 = np.asarray(pcd1_copy.colors)\n",
    "colors_2 = np.asarray(pcd2_copy.colors)\n",
    "\n",
    "thres = 0.2\n",
    "# Set values less than 0.1 to 0\n",
    "colors_trans[(colors_trans < thres).any(axis=1)] = 0\n",
    "colors_1[(colors_1 < thres).any(axis=1)] = 0\n",
    "colors_2[(colors_2 < thres).any(axis=1)] = 0\n",
    "\n",
    "print(colors_1[938])\n",
    "\n",
    "# Update the point cloud's colors\n",
    "transformed_icp_pcd_copy.colors = o3d.utility.Vector3dVector(colors_trans)\n",
    "pcd1_copy.colors = o3d.utility.Vector3dVector(colors_1)\n",
    "pcd2_copy.colors = o3d.utility.Vector3dVector(colors_2)\n",
    "\n",
    "visualizePointCloud(transformed_icp_pcd_copy)"
   ]
  },
  {
   "cell_type": "code",
   "execution_count": 72,
   "metadata": {},
   "outputs": [
    {
     "name": "stdout",
     "output_type": "stream",
     "text": [
      "8632\n",
      "8631\n",
      "8632\n",
      "[[ 0.          0.          0.        ]\n",
      " [-0.59215686 -0.55686275 -0.52941176]\n",
      " [ 0.          0.          0.        ]\n",
      " ...\n",
      " [ 0.43921569  0.3254902   0.30196078]\n",
      " [ 0.          0.          0.        ]\n",
      " [ 0.          0.          0.        ]]\n",
      "Mean RGB difference: [-0.04130437 -0.03465711 -0.02948923]\n",
      "Max RGB difference: [0.9372549  0.8        0.79215686]\n",
      "\u001b[1;33m[Open3D WARNING] GLFW Error: Cocoa: Failed to find service port for display\u001b[0;m\n",
      "\u001b[1;33m[Open3D WARNING] GLFW Error: Cocoa: Failed to find service port for display\u001b[0;m\n",
      "Closing the window\n",
      "\u001b[1;33m[Open3D WARNING] GLFW Error: The GLFW library is not initialized\u001b[0;m\n"
     ]
    }
   ],
   "source": [
    "min_points = min(len(np.asarray(pcd1_copy.points)), len(np.asarray(pcd2_copy.points)),len(np.asarray(transformed_icp_pcd_copy.points)) )\n",
    "\n",
    "print(len(np.asarray(pcd1_copy.points)))\n",
    "print(len(np.asarray(pcd2_copy.points)))\n",
    "print(len(np.asarray(transformed_icp_pcd_copy.points)))\n",
    "# # Ensure both point clouds have the same number of pointsqqq\n",
    "# assert len(pcd1.points) == len(pcd2.points), \"Point clouds must have the same number of points.\"\n",
    "\n",
    "# Extract point coordinates and colors\n",
    "points1 = np.asarray(transformed_icp_pcd_copy.points[:min_points])\n",
    "points2 = np.asarray(pcd2_copy.points[:min_points])\n",
    "colors1 = np.asarray(transformed_icp_pcd_copy.colors[:min_points])\n",
    "colors2 = np.asarray(pcd2_copy.colors[:min_points])\n",
    "\n",
    "difference = colors2 - colors1\n",
    "# difference = np.clip(colors2 - colors1, 0, 255).astype(np.uint8)\n",
    "scaling_factor = 5  # You can adjust this factor to control the level of exaggeration\n",
    "scaled_difference = np.clip(difference * scaling_factor, 0, 255).astype(np.uint8)\n",
    "\n",
    "print(difference) #8631, 3\n",
    "\n",
    "diff_pcd = o3d.geometry.PointCloud()\n",
    "diff_pcd.points = o3d.utility.Vector3dVector(pcd2_copy.points)\n",
    "diff_pcd.colors = o3d.utility.Vector3dVector(difference)\n",
    "mean_diff = np.mean(difference, axis=0)  # Mean difference per channel\n",
    "max_diff = np.max(difference, axis=0)    # Maximum difference per channel\n",
    "print(\"Mean RGB difference:\", mean_diff)\n",
    "print(\"Max RGB difference:\", max_diff)\n",
    "\n",
    "visualizePointCloud(diff_pcd)"
   ]
  },
  {
   "cell_type": "code",
   "execution_count": null,
   "metadata": {},
   "outputs": [
    {
     "name": "stdout",
     "output_type": "stream",
     "text": [
      "\u001b[1;33m[Open3D WARNING] GLFW Error: Cocoa: Failed to find service port for display\u001b[0;m\n",
      "\u001b[1;33m[Open3D WARNING] GLFW Error: Cocoa: Failed to find service port for display\u001b[0;m\n",
      "Closing the window\n",
      "\u001b[1;33m[Open3D WARNING] GLFW Error: The GLFW library is not initialized\u001b[0;m\n"
     ]
    }
   ],
   "source": [
    "# colors = np.asarray(diff_pcd.colors)  # RGB values are in range [0, 1]\n",
    "# colors_rgb = (colors * 255).astype(np.uint8)  # Scale to [0, 255] for OpenCV\n",
    "\n",
    "# # Convert RGB to HSV\n",
    "# colors_hsv = cv2.cvtColor(colors_rgb.reshape(1, -1, 3), cv2.COLOR_RGB2HSV).reshape(-1, 3)\n",
    "\n",
    "# # Scale HSV values back to [0, 1] for Open3D\n",
    "# colors_hsv_normalized = colors_hsv / np.array([179, 255, 255], dtype=np.float32)\n",
    "\n",
    "# # Assign HSV colors back to the point cloud\n",
    "# hsv_pcd = o3d.geometry.PointCloud()\n",
    "# hsv_pcd.points = o3d.utility.Vector3dVector(diff_pcd.points)\n",
    "# hsv_pcd.colors = o3d.utility.Vector3dVector(colors_hsv_normalized)\n",
    "\n",
    "# # Save or visualize the point cloud\n",
    "# visualizePointCloud(hsv_pcd)"
   ]
  },
  {
   "cell_type": "code",
   "execution_count": null,
   "metadata": {},
   "outputs": [],
   "source": [
    "# if not pcd.has_colors():\n",
    "#     raise ValueError(\"Point cloud does not have colors!\")\n",
    "\n",
    "# # Extract RGB colors as a NumPy array\n",
    "# colors = np.asarray(pcd.colors)  # RGB values are in range [0, 1]\n",
    "# colors_rgb = (colors * 255).astype(np.uint8)  # Scale to [0, 255] for OpenCV\n",
    "\n",
    "# # Convert RGB to HSV\n",
    "# colors_hsv = cv2.cvtColor(colors_rgb.reshape(1, -1, 3), cv2.COLOR_RGB2HSV).reshape(-1, 3)\n",
    "\n",
    "# # Scale HSV values back to [0, 1] for Open3D\n",
    "# colors_hsv_normalized = colors_hsv a/ np.array([179, 255, 255], dtype=np.float32)\n",
    "\n",
    "# # Assign HSV colors back to the point cloud\n",
    "# pcd.colors = o3d.utility.Vector3dVector(colors_hsv_normalized)\n",
    "\n",
    "# # Save or visualize the point cloud\n",
    "# o3d.io.write_point_cloud(\"point_cloud_hsv.ply\", pcd)\n",
    "# o3d.visualization.draw_geometries([pcd])"
   ]
  },
  {
   "cell_type": "code",
   "execution_count": null,
   "metadata": {},
   "outputs": [],
   "source": [
    "\n",
    "# # Voxel size for discretization (adjust as necessary)\n",
    "# voxel_size = 0.5\n",
    "\n",
    "# # Create voxel grid filters for point clouds\n",
    "# pcd1_voxel = transformed_pcd1.voxel_down_sample(voxel_size)\n",
    "# pcd2_voxel = pcd2.voxel_down_sample(voxel_size)\n",
    "\n",
    "# # Get the downsampled points and colors\n",
    "# points1_voxel = np.asarray(pcd1_voxel.points[:min_points])\n",
    "# points2_voxel = np.asarray(pcd2_voxel.points[:min_points])\n",
    "# colors1_voxel = np.asarray(pcd1_voxel.colors[:min_points])\n",
    "# colors2_voxel = np.asarray(pcd2_voxel.colors[:min_points])\n",
    "\n",
    "# # Calculate voxel-wise RGB difference (Euclidean distance in RGB space)\n",
    "# rgb_diff_voxel = np.linalg.norm(colors2_voxel - colors1_voxel, axis=1)\n",
    "\n",
    "# # Normalize the RGB differences\n",
    "# rgb_diff_normalized = np.clip(rgb_diff_voxel / np.max(rgb_diff_voxel), 0, 1)\n",
    "\n",
    "# # Apply a colormap to visualize the difference\n",
    "# # diff_colored = np.repeat(rgb_diff_normalized[:, np.newaxis], 3, axis=1)\n",
    "# diff_colored = np.array([plt.cm.hot(val)[:3] for val in rgb_diff_normalized])\n",
    "\n",
    "# # cmap = plt.get_cmap('hot')\n",
    "# color_map = cmap(rgb_diff_normalized)[:, :3]\n",
    "\n",
    "# # Create a new point cloud for voxel-wise differences\n",
    "# diff_pcd = o3d.geometry.PointCloud()\n",
    "# diff_pcd.points = o3d.utility.Vector3dVector(points2_voxel)\n",
    "# diff_pcd.colors = o3d.utility.Vector3dVector(color_map)\n",
    "\n",
    "# # Visualize the voxel-wise RGB difference\n",
    "# visualizePointCloud(diff_pcd)\n",
    "# # Optionally, save the result\n"
   ]
  },
  {
   "cell_type": "code",
   "execution_count": null,
   "metadata": {},
   "outputs": [],
   "source": [
    "# min_points = min(len(np.asarray(pcd1.points)), len(np.asarray(pcd2.points)),len(np.asarray(transformed_pcd1.points)) )\n",
    "\n",
    "# image1_pc_colours = np.asarray(pcd1.colors)[:min_points]  # Shape: (N, 3)\n",
    "# image2_pc_colours = np.asarray(pcd2.colors)[:min_points] \n",
    "# transformed_pc_colours = np.asarray(transformed_pcd1.colors)[:min_points] \n",
    "\n",
    "# assert np.all((0 <= image1_pc_colours) & (image1_pc_colours <= 1)), \"Colors1 are not normalized\"\n",
    "# assert np.all((0 <= image2_pc_colours) & (image2_pc_colours <= 1)), \"Colors2 are not normalized\"\n",
    "# assert np.all((0 <= transformed_pc_colours) & (transformed_pc_colours <= 1)), \"Colors3 are not normalized\"\n",
    "\n",
    "\n",
    "\n",
    "# og_diff_pc = np.abs(image1_pc_colours - image2_pc_colours)  # Shape: (N, 3)\n",
    "# diff_pc =  np.abs(image2_pc_colours - transformed_pc_colours)\n",
    "# img1_trans_diff_pc = np.abs(image1_pc_colours - transformed_pc_colours)  # Shape: (N, 3)\n",
    "\n",
    "# # rgb_diff_normalized = np.clip(diff_pc / np.max(diff_pc), 0, 1)  # Normalize to [0, 1]\n",
    "\n",
    "# # # Apply a color map to the normalized difference\n",
    "# # cmap = plt.get_cmap('hot')  # You can use 'jet', 'viridis', 'plasma', etc.\n",
    "# # color_map = cmap(rgb_diff_normalized)[:, :3]  # Discard the alpha channel\n",
    "\n",
    "# rgb_diff_normalized = np.clip(diff_pc * 255 / np.max(diff_pc), 0, 255)\n",
    "\n",
    "# # Create a grayscale color map based on the difference\n",
    "# diff_colored = np.repeat(rgb_diff_normalized[:, np.newaxis], 3, axis=1) / 255.0  # Normalize to [0, 1]\n",
    "\n",
    "\n",
    "# # Create a new point cloud for the differences\n",
    "# difference_pcd = o3d.geometry.PointCloud()\n",
    "\n",
    "# difference_pcd.points = transformed_pcd1.points\n",
    "# difference_pcd.colors = o3d.utility.Vector3dVector(diff_colored)\n",
    "\n",
    "# # Visualize the point cloud showing RGB differences\n",
    "# # Assign normalized differences as colors\n",
    "\n",
    "# # # print(diff_pc.shape) #(8631, 3)\n",
    "# # # Create a new point cloud to visualize the differences\n",
    "\n",
    "# visualizePointCloud(difference_pcd)\n",
    "\n",
    "\n"
   ]
  },
  {
   "cell_type": "markdown",
   "metadata": {},
   "source": [
    "#### Get the BRIGHTNESS channel of the DIFFERENCE image"
   ]
  },
  {
   "cell_type": "markdown",
   "metadata": {},
   "source": [
    "##### For Point Clouds"
   ]
  },
  {
   "cell_type": "code",
   "execution_count": 74,
   "metadata": {},
   "outputs": [
    {
     "name": "stdout",
     "output_type": "stream",
     "text": [
      "(8631, 3)\n",
      "\u001b[1;33m[Open3D WARNING] GLFW Error: Cocoa: Failed to find service port for display\u001b[0;m\n",
      "\u001b[1;33m[Open3D WARNING] GLFW Error: Cocoa: Failed to find service port for display\u001b[0;m\n",
      "Closing the window\n",
      "\u001b[1;33m[Open3D WARNING] GLFW Error: The GLFW library is not initialized\u001b[0;m\n"
     ]
    }
   ],
   "source": [
    "\n",
    "colors_transformed = np.asarray(diff_pcd.colors)  # Shape: (M, 3)\n",
    "\n",
    "# Scale RGB colors from [0, 1] to [0, 255] for cv2 compatibility\n",
    "colors_trans_scaled = (colors_transformed * 255).astype(np.uint8)\n",
    "\n",
    "print(colors_trans_scaled.shape)\n",
    "# Convert RGB to HSV\n",
    "hsv_colors_transformed = cv2.cvtColor(colors_trans_scaled.reshape(-1, 1, 3), cv2.COLOR_BGR2HSV).reshape(-1, 3)\n",
    "\n",
    "# Optional: Scale back to [0, 1] if needed\n",
    "# hsv_colors1_normalized = hsv_colors_transformed.astype(np.float32) / 255.0\n",
    "\n",
    "brightness_channel = hsv_colors_transformed[:, 0]  # Extract brightness (V)\n",
    "\n",
    "brightness_normalized = brightness_channel / 255.0  # OpenCV scales to 0-255, we normalize to 0-1\n",
    "hot_colors = plt.cm.jet(brightness_normalized)[:, :3]  # Use only RGB channels (not alpha)\n",
    "\n",
    "# Create a new color array for the point cloud, where each point is assigned the brightness value\n",
    "# output_colors = np.zeros_like(colors_trans_scaled)\n",
    "# output_colors[:, 0] = 0  # Assign the brightness to the R channel\n",
    "# output_colors[:, 1] = 0  # Assign the brightness to the G channel\n",
    "# output_colors[:, 2] = brightness_normalized  # Assign the brightness to the B channel\n",
    "\n",
    "# Replace point cloud colors with HSV values\n",
    "hsv_pcd1 = o3d.geometry.PointCloud()\n",
    "hsv_pcd1.points = diff_pcd.points  # Keep the original points\n",
    "#Channel 1: Hue\n",
    "#Channel 2: Saturation\n",
    "#Channel 3: Brightness\n",
    "hsv_pcd1.colors = o3d.utility.Vector3dVector(hot_colors)  # Assign HSV colors\n",
    "\n",
    "# Visualize HSV point clouds\n",
    "visualizePointCloud(hsv_pcd1)\n",
    "\n"
   ]
  },
  {
   "cell_type": "markdown",
   "metadata": {},
   "source": [
    "## Step 6: Clustering"
   ]
  },
  {
   "cell_type": "markdown",
   "metadata": {},
   "source": [
    "diff_trans is the difference between the transformed and the masked images\n",
    "\n",
    "colour_image2 is the ORIGINAL masked image (RGB)\n",
    "\n",
    "\n",
    "cropped_image2 is the RGB masked image without a background\n",
    "\n",
    "hsvImg2 is the cropped (without a background) masked image, as a HSV\n",
    "\n",
    "hsvImg2[:,:,0] is the HUE image with a max of 179\n",
    "hsvImg2[:,:,1] is the Saturation channel, max 255\n",
    "hsvImg2[:,:,2] is the Value channel, max 255"
   ]
  },
  {
   "cell_type": "markdown",
   "metadata": {},
   "source": [
    "Need the image as a NP array"
   ]
  },
  {
   "cell_type": "markdown",
   "metadata": {},
   "source": [
    "#### Plot the HSV brightness image again"
   ]
  },
  {
   "cell_type": "markdown",
   "metadata": {},
   "source": [
    "### Step 6a: K-means Clustering"
   ]
  },
  {
   "cell_type": "code",
   "execution_count": 54,
   "metadata": {},
   "outputs": [],
   "source": [
    "\n",
    "\n",
    "def kdtree(outlier_cloud):\n",
    "    pcd_tree = o3d.geometry.KDTreeFlann(outlier_cloud)\n",
    "\n",
    "    assigned = np.zeros(len(outlier_cloud.points), dtype=bool)\n",
    "    labels = np.zeros(len(outlier_cloud.points), dtype=int)\n",
    "\n",
    "    for i in range(len(outlier_cloud.points)):\n",
    "        if assigned[i]:\n",
    "            continue  # Skip already assigned points\n",
    "\n",
    "        query_point = outlier_cloud.points[i]  # Query point\n",
    "        [k, indices, _] = pcd_tree.search_knn_vector_3d(query_point, 2500)  # KNN search\n",
    "\n",
    "        # Assign the current point and its neighbors to a cluster\n",
    "        assigned[i] = True\n",
    "        assigned[indices] = True\n",
    "\n",
    "        cluster_label = i + 1  # Cluster label for this group\n",
    "        labels[i] = cluster_label\n",
    "        labels[indices] = cluster_label\n",
    "\n",
    "    # Create the colormap\n",
    "    unique_labels = np.unique(labels)\n",
    "    num_clusters = len(unique_labels)\n",
    "    cmap = plt.get_cmap('tab20', num_clusters)  # Using 'tab20' colormap for distinct colors\n",
    "    print(\"Number Clusters:\", num_clusters)\n",
    "    colors = np.zeros((len(outlier_cloud.points), 3))  # Initialize colors array\n",
    "\n",
    "    for cluster_label in unique_labels:\n",
    "        cluster_indices = np.where(labels == cluster_label)[0]\n",
    "        cluster_color = cmap(cluster_label / num_clusters)[:3]  # Normalize cluster label for color map\n",
    "        colors[cluster_indices] = cluster_color  # Assign color to points in the cluster\n",
    "\n",
    "    # Set colors for the point cloud\n",
    "    outlier_cloud.colors = o3d.utility.Vector3dVector(colors)\n",
    "\n",
    "    return outlier_cloud\n"
   ]
  },
  {
   "cell_type": "code",
   "execution_count": 46,
   "metadata": {},
   "outputs": [],
   "source": [
    "def euclidean_distance(one_sample,X):\n",
    "    #transfer one_sample into 1D vector\n",
    "    one_sample = one_sample.reshape(1,-1)\n",
    "    #transfer X into 1D vector\n",
    "    X = X.reshape(X.shape[0],-1)\n",
    "    #this is used to make sure one_sample's dimension is same as X\n",
    "    distances = np.power(np.tile(one_sample,(X.shape[0],1))-X,2).sum(axis=1)\n",
    "    return distances"
   ]
  },
  {
   "cell_type": "code",
   "execution_count": 47,
   "metadata": {},
   "outputs": [],
   "source": [
    "\n",
    "class Kmeans():\n",
    "    #constructor\n",
    "    def __init__(self,k=2,max_iterations=1500,tolerance=0.00001):\n",
    "        self.k = k\n",
    "        self.max_iterations = max_iterations\n",
    "        self.tolerance = tolerance\n",
    "    \n",
    "    #randomly select k centroids\n",
    "    def init_random_centroids(self,X):\n",
    "        #save the shape of X\n",
    "        n_samples, n_features = np.shape(X)\n",
    "        #make a zero matrix to store values\n",
    "        centroids = np.zeros((self.k,n_features))\n",
    "        #bcs there is k centroids, so we loop k tiems\n",
    "        for i in range(self.k):\n",
    "            #selecting values under the range radomly\n",
    "            centroid = X[np.random.choice(range(n_samples))]\n",
    "            centroids[i] = centroid\n",
    "        return centroids\n",
    "\n",
    "    #find the closest centroid of a sample\n",
    "    def closest_centroid(self,sample,centroids):\n",
    "        distances = euclidean_distance(sample,centroids)\n",
    "        #np.argmin return the indices of the minimum of distances\n",
    "        closest_i = np.argmin(distances)\n",
    "        return closest_i\n",
    "\n",
    "    #determine the clusers\n",
    "    def create_clusters(self,centroids,X):\n",
    "        n_samples = np.shape(X)[0]\n",
    "        #This is to construct the nested list for storing clusters\n",
    "        clusters = [[] for _ in range(self.k)]\n",
    "        for sample_i, sample in enumerate(X):\n",
    "            centroid_i = self.closest_centroid(sample,centroids)\n",
    "            clusters[centroid_i].append(sample_i)\n",
    "        return clusters\n",
    "\n",
    "    #update the centroids based on mean algorithm\n",
    "    def update_centroids(self,clusters,X):\n",
    "        n_features = np.shape(X)[1]\n",
    "        centroids = np.zeros((self.k,n_features))\n",
    "        for i, cluster in enumerate(clusters):\n",
    "            centroid = np.mean(X[cluster],axis=0)\n",
    "            centroids[i] = centroid\n",
    "        return centroids\n",
    "\n",
    "    #obtain the labels\n",
    "    #same cluster, same y_pred value\n",
    "    def get_cluster_labels(self,clusters,X):\n",
    "        y_pred = np.zeros(np.shape(X)[0])\n",
    "        for cluster_i, cluster in enumerate(clusters):\n",
    "            for sample_i in cluster:\n",
    "                y_pred[sample_i] = cluster_i\n",
    "        return y_pred\n",
    "\n",
    "    #predict the labels\n",
    "    def predict(self,X):\n",
    "        #selecting the centroids randomly\n",
    "        centroids = self.init_random_centroids(X)\n",
    "\n",
    "        for _ in range(self.max_iterations):\n",
    "            #clustering all the data point\n",
    "            clusters = self.create_clusters(centroids,X)\n",
    "            former_centroids = centroids\n",
    "            #calculate new cluster center\n",
    "            centroids = self.update_centroids(clusters,X)\n",
    "            #judge the current difference if it meets convergence  \n",
    "            diff = centroids - former_centroids\n",
    "            if diff.any() < self.tolerance:\n",
    "                break\n",
    "            \n",
    "        return self.get_cluster_labels(clusters,X) "
   ]
  },
  {
   "cell_type": "code",
   "execution_count": 48,
   "metadata": {},
   "outputs": [],
   "source": [
    "def draw_labels_on_model(pcl,labels):\n",
    "    cmap = plt.get_cmap(\"tab20\")\n",
    "    pcl_temp = copy.deepcopy(pcl)\n",
    "    max_label = labels.max()\n",
    "    colors = cmap(labels / (max_label if max_label > 0 else 1))\n",
    "    pcl_temp.colors = o3d.utility.Vector3dVector(colors[:,:3])\n",
    "    visualizePointCloud(pcl_temp)\n",
    "    return pcl_temp"
   ]
  },
  {
   "cell_type": "code",
   "execution_count": null,
   "metadata": {},
   "outputs": [],
   "source": []
  },
  {
   "cell_type": "code",
   "execution_count": 82,
   "metadata": {},
   "outputs": [
    {
     "name": "stdout",
     "output_type": "stream",
     "text": [
      "Number of unique labels: 15\n",
      "\u001b[1;33m[Open3D WARNING] GLFW Error: Cocoa: Failed to find service port for display\u001b[0;m\n",
      "\u001b[1;33m[Open3D WARNING] GLFW Error: Cocoa: Failed to find service port for display\u001b[0;m\n",
      "Closing the window\n",
      "\u001b[1;33m[Open3D WARNING] GLFW Error: The GLFW library is not initialized\u001b[0;m\n"
     ]
    }
   ],
   "source": [
    "hsv_array = np.asarray(hsv_pcd1.points)\n",
    "\n",
    "clf = Kmeans(k=15,max_iterations=1500,tolerance=0.000000001)\n",
    "labels = clf.predict(hsv_array)\n",
    "unique_labels = np.unique(labels)\n",
    "print(f\"Number of unique labels: {len(unique_labels)}\")\n",
    "pcd_cluster_1 = draw_labels_on_model(diff_pcd,labels)"
   ]
  },
  {
   "cell_type": "code",
   "execution_count": 76,
   "metadata": {},
   "outputs": [
    {
     "name": "stdout",
     "output_type": "stream",
     "text": [
      "\u001b[1;33m[Open3D WARNING] GLFW Error: Cocoa: Failed to find service port for display\u001b[0;m\n",
      "\u001b[1;33m[Open3D WARNING] GLFW Error: Cocoa: Failed to find service port for display\u001b[0;m\n",
      "Closing the window\n",
      "\u001b[1;33m[Open3D WARNING] GLFW Error: The GLFW library is not initialized\u001b[0;m\n"
     ]
    }
   ],
   "source": [
    "visualizePointCloud(pcd_cluster_1)"
   ]
  },
  {
   "cell_type": "code",
   "execution_count": 77,
   "metadata": {},
   "outputs": [
    {
     "name": "stdout",
     "output_type": "stream",
     "text": [
      "Number Clusters: 8\n"
     ]
    }
   ],
   "source": [
    "kdtree_pcd_copy = copy.deepcopy(hsv_pcd1)\n",
    "\n",
    "clustered_pc = kdtree(kdtree_pcd_copy)"
   ]
  },
  {
   "cell_type": "code",
   "execution_count": 78,
   "metadata": {},
   "outputs": [
    {
     "name": "stdout",
     "output_type": "stream",
     "text": [
      "\u001b[1;33m[Open3D WARNING] GLFW Error: Cocoa: Failed to find service port for display\u001b[0;m\n",
      "\u001b[1;33m[Open3D WARNING] GLFW Error: Cocoa: Failed to find service port for display\u001b[0;m\n",
      "Closing the window\n",
      "\u001b[1;33m[Open3D WARNING] GLFW Error: The GLFW library is not initialized\u001b[0;m\n"
     ]
    }
   ],
   "source": [
    "visualizePointCloud(clustered_pc)"
   ]
  },
  {
   "cell_type": "code",
   "execution_count": null,
   "metadata": {},
   "outputs": [],
   "source": [
    "\n",
    "# from matplotlib.animation import FuncAnimation\n",
    "\n",
    "# # Assuming 'point_cloud' is a numpy array of shape (N, 3) where N is the number of points\n",
    "# # point_cloud = np.array([...])  # Replace with your point cloud data\n",
    "# array_hsvImage1 = np.asarray(hsv_pcd1.points)\n",
    "# print((array_hsvImage1.shape))\n",
    "# # Reshape the point cloud to be a 2D array (N, 3), where each row is a point [x, y, z]\n",
    "# Z = array_hsvImage1.reshape((-1, 3))  # Flatten the point cloud to 3 columns (x, y, z)\n",
    "\n",
    "# # Convert to float32 for k-means\n",
    "# Z = np.float32(Z)\n",
    "\n",
    "# # Define k-means criteria and apply k-means\n",
    "# criteria = (cv2.TERM_CRITERIA_EPS + cv2.TERM_CRITERIA_MAX_ITER, 70, 2.5)\n",
    "# K = 15  # Number of clusters\n",
    "# _, label, center = cv2.kmeans(Z, K, None, criteria, attempts=20, flags=cv2.KMEANS_RANDOM_CENTERS)\n",
    "\n",
    "# colors = np.random.rand(K, 3)  # Random colors for each cluster\n",
    "# point_colors = colors[label.flatten()]  # Assign colors to each point based on its label\n",
    "\n",
    "# # Set the point cloud colors\n",
    "# hsv_pcd1.colors = o3d.utility.Vector3dVector(point_colors)  # Assign colors to the point cloud\n",
    "\n",
    "# visualizePointCloud(hsv_pcd1)\n"
   ]
  },
  {
   "cell_type": "markdown",
   "metadata": {},
   "source": [
    "## Step 8: Project Mask onto Occluded Image"
   ]
  },
  {
   "cell_type": "code",
   "execution_count": null,
   "metadata": {},
   "outputs": [
    {
     "name": "stdout",
     "output_type": "stream",
     "text": [
      "\u001b[1;33m[Open3D WARNING] GLFW Error: Cocoa: Failed to find service port for display\u001b[0;m\n",
      "\u001b[1;33m[Open3D WARNING] GLFW Error: Cocoa: Failed to find service port for display\u001b[0;m\n",
      "Closing the window\n",
      "\u001b[1;33m[Open3D WARNING] GLFW Error: The GLFW library is not initialized\u001b[0;m\n"
     ]
    }
   ],
   "source": [
    "visualizePointCloud(diff_pcd)"
   ]
  },
  {
   "cell_type": "code",
   "execution_count": 93,
   "metadata": {},
   "outputs": [
    {
     "name": "stdout",
     "output_type": "stream",
     "text": [
      "\u001b[1;33m[Open3D WARNING] GLFW Error: Cocoa: Failed to find service port for display\u001b[0;m\n",
      "\u001b[1;33m[Open3D WARNING] GLFW Error: Cocoa: Failed to find service port for display\u001b[0;m\n",
      "Closing the window\n",
      "\u001b[1;33m[Open3D WARNING] GLFW Error: The GLFW library is not initialized\u001b[0;m\n"
     ]
    }
   ],
   "source": [
    "\n",
    "\n",
    "hsv_array = np.asarray(pcd_cluster_1.points)\n",
    "\n",
    "# Get the minimum size between the two point clouds\n",
    "min_size = min(len(np.asarray(pcd1.points)), len(np.asarray(pcd_cluster_1.points)))\n",
    "\n",
    "# Extract points and colors from both point clouds\n",
    "transformed_points = np.asarray(pcd1.points)[:min_size]\n",
    "transformed_colors = np.asarray(pcd1.colors)[:min_size]\n",
    "\n",
    "# Initialize the color array (black by default)\n",
    "colors = np.zeros((min_size, 3))  # Black for all points\n",
    "\n",
    "# Specify the cluster label you want to extract (e.g., label 7)\n",
    "cluster_label = 10\n",
    "labels_parsed = labels[:min_size]\n",
    "# Apply bright red color to the points belonging to the specified cluster\n",
    "# colors[labels_parsed == cluster_label] = [1, 0, 0]  # RGB for bright red\n",
    "\n",
    "# Apply the RGB values from the second point cloud to the red points\n",
    "colors[labels_parsed == cluster_label] = transformed_colors[labels_parsed == cluster_label]\n",
    "\n",
    "# Create a new PointCloud object with the same points\n",
    "colored_pcd = o3d.geometry.PointCloud()\n",
    "colored_pcd.points = o3d.utility.Vector3dVector(hsv_array[:min_size])\n",
    "\n",
    "# Assign the updated color array to the point cloud\n",
    "colored_pcd.colors = o3d.utility.Vector3dVector(colors)\n",
    "\n",
    "# Visualize the result\n",
    "visualizePointCloud(colored_pcd)"
   ]
  }
 ],
 "metadata": {
  "kernelspec": {
   "display_name": "Python 3",
   "language": "python",
   "name": "python3"
  },
  "language_info": {
   "codemirror_mode": {
    "name": "ipython",
    "version": 3
   },
   "file_extension": ".py",
   "mimetype": "text/x-python",
   "name": "python",
   "nbconvert_exporter": "python",
   "pygments_lexer": "ipython3",
   "version": "3.9.20"
  }
 },
 "nbformat": 4,
 "nbformat_minor": 2
}
